{
 "cells": [
  {
   "cell_type": "code",
   "execution_count": 1,
   "metadata": {},
   "outputs": [
    {
     "name": "stdout",
     "output_type": "stream",
     "text": [
      "Hello, World!\n"
     ]
    }
   ],
   "source": [
    "print(\"Hello, World!\")"
   ]
  },
  {
   "cell_type": "code",
   "execution_count": 4,
   "metadata": {},
   "outputs": [
    {
     "data": {
      "text/plain": [
       "2"
      ]
     },
     "execution_count": 4,
     "metadata": {},
     "output_type": "execute_result"
    }
   ],
   "source": [
    "1 + 1"
   ]
  },
  {
   "cell_type": "code",
   "execution_count": 9,
   "metadata": {},
   "outputs": [
    {
     "name": "stdout",
     "output_type": "stream",
     "text": [
      "Hello from the Python function (new cell)!\n"
     ]
    }
   ],
   "source": [
    "def example():\n",
    "    print('Hello from the Python function (new cell)!')\n",
    "\n",
    "if __name__ == '__main__':\n",
    "    example()"
   ]
  },
  {
   "cell_type": "code",
   "execution_count": 13,
   "metadata": {},
   "outputs": [
    {
     "data": {
      "application/javascript": "let hello = 'I am a global variable';\nfunction example() {\n    hello = 'Hello from the JavaScript function (new cell)!';\n    return hello;\n}\n\nexample();\nconsole.log(hello);\n",
      "text/plain": [
       "<IPython.core.display.Javascript object>"
      ]
     },
     "metadata": {},
     "output_type": "display_data"
    }
   ],
   "source": [
    "%%javascript\n",
    "let hello = 'I am a global variable';\n",
    "function example() {\n",
    "    hello = 'Hello from the JavaScript function (new cell)!';\n",
    "    return hello;\n",
    "}\n",
    "\n",
    "example();\n",
    "console.log(hello);"
   ]
  },
  {
   "cell_type": "code",
   "execution_count": 11,
   "metadata": {},
   "outputs": [
    {
     "name": "stdout",
     "output_type": "stream",
     "text": [
      "Single argument: 42\n",
      "Multiple arguments: (1, 2, 3)\n",
      "Keyword arguments: {'a': 'apple', 'b': 'banana'}\n",
      "Positional arguments: (10, 20)\n",
      "Keyword arguments: {'a': 'avocado', 'b': 'blueberry'}\n"
     ]
    }
   ],
   "source": [
    "def process_inputs(*args, **kwargs):\n",
    "    if args and not kwargs:\n",
    "        if len(args) == 1:\n",
    "            print(\"Single argument:\", args[0])\n",
    "        else:\n",
    "            print(\"Multiple arguments:\", args)\n",
    "    elif kwargs and not args:\n",
    "        print(\"Keyword arguments:\", kwargs)\n",
    "    elif args and kwargs:\n",
    "        print(\"Positional arguments:\", args)\n",
    "        print(\"Keyword arguments:\", kwargs)\n",
    "    else:\n",
    "        print(\"No arguments provided!\")\n",
    "\n",
    "# Example usages:\n",
    "process_inputs(42)\n",
    "process_inputs(1, 2, 3)\n",
    "process_inputs(a=\"apple\", b=\"banana\")\n",
    "process_inputs(10, 20, a=\"avocado\", b=\"blueberry\")"
   ]
  }
 ],
 "metadata": {
  "kernelspec": {
   "display_name": "Python 3",
   "language": "python",
   "name": "python3"
  },
  "language_info": {
   "codemirror_mode": {
    "name": "ipython",
    "version": 3
   },
   "file_extension": ".py",
   "mimetype": "text/x-python",
   "name": "python",
   "nbconvert_exporter": "python",
   "pygments_lexer": "ipython3",
   "version": "3.12.4"
  }
 },
 "nbformat": 4,
 "nbformat_minor": 2
}
